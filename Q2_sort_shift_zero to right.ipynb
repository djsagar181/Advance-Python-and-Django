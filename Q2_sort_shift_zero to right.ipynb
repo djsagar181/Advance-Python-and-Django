{
 "cells": [
  {
   "cell_type": "code",
   "execution_count": 1,
   "metadata": {},
   "outputs": [
    {
     "name": "stdout",
     "output_type": "stream",
     "text": [
      "[1, 1, 1, 1, 1, 1, 2, 2, 2, 3, 3, 3, 21, 24, 45, 0, 0, 0, 0, 0, 0]\n"
     ]
    }
   ],
   "source": [
    "list1 =[1,2,3,0,2,3,0,1,24,0,1,3,1,0,1,21,0,1,2,0,45]\n",
    "list1.sort()\n",
    "b=list1.count(0)\n",
    "print(list1[b:] + list1[:b])"
   ]
  }
 ],
 "metadata": {
  "kernelspec": {
   "display_name": "Python 3",
   "language": "python",
   "name": "python3"
  },
  "language_info": {
   "codemirror_mode": {
    "name": "ipython",
    "version": 3
   },
   "file_extension": ".py",
   "mimetype": "text/x-python",
   "name": "python",
   "nbconvert_exporter": "python",
   "pygments_lexer": "ipython3",
   "version": "3.7.6"
  }
 },
 "nbformat": 4,
 "nbformat_minor": 4
}
