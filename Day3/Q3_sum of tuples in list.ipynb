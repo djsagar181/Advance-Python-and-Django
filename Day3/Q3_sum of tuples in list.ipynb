{
 "cells": [
  {
   "cell_type": "code",
   "execution_count": 2,
   "metadata": {},
   "outputs": [
    {
     "name": "stdout",
     "output_type": "stream",
     "text": [
      "The sorted list is:  [(9, 1), (9, 5), (10, 4), (10, 4), (90, 3)]\n",
      "Tha sum of tuples in list:  [10, 14, 14, 14, 93]\n"
     ]
    }
   ],
   "source": [
    "list1 = [(10,4),(90,3),(9,1),(10,4),(9,5)]\n",
    "a=sorted(list1)\n",
    "print(\"The sorted list is: \",a)\n",
    "for each in a:\n",
    "    res=[sum(a[0]),sum(a[1]),sum(a[2]),sum(a[3]),sum(a[4])]\n",
    "print(\"Tha sum of tuples in list: \",res)\n"
   ]
  }
 ],
 "metadata": {
  "kernelspec": {
   "display_name": "Python 3",
   "language": "python",
   "name": "python3"
  },
  "language_info": {
   "codemirror_mode": {
    "name": "ipython",
    "version": 3
   },
   "file_extension": ".py",
   "mimetype": "text/x-python",
   "name": "python",
   "nbconvert_exporter": "python",
   "pygments_lexer": "ipython3",
   "version": "3.7.6"
  }
 },
 "nbformat": 4,
 "nbformat_minor": 4
}
