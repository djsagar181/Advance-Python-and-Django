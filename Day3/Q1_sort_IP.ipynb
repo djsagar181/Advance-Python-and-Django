{
 "cells": [
  {
   "cell_type": "code",
   "execution_count": 1,
   "metadata": {},
   "outputs": [
    {
     "name": "stdout",
     "output_type": "stream",
     "text": [
      "['192.168.10.4', '192.168.10.9', '192.168.10.11', '192.168.10.35']\n"
     ]
    }
   ],
   "source": [
    "list3 = [\"192.168.10.9\", \"192.168.10.4\", \"192.168.10.11\", \"192.168.10.35\"]\n",
    "def fun1(x):\n",
    "   list3 = x.split('.') #make a list\n",
    "   return tuple(map(int, list3)) # convert to int\n",
    "\n",
    "print(sorted(list3, key=fun1))"
   ]
  }
 ],
 "metadata": {
  "kernelspec": {
   "display_name": "Python 3",
   "language": "python",
   "name": "python3"
  },
  "language_info": {
   "codemirror_mode": {
    "name": "ipython",
    "version": 3
   },
   "file_extension": ".py",
   "mimetype": "text/x-python",
   "name": "python",
   "nbconvert_exporter": "python",
   "pygments_lexer": "ipython3",
   "version": "3.7.6"
  }
 },
 "nbformat": 4,
 "nbformat_minor": 4
}
