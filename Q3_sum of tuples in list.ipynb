{
 "cells": [
  {
   "cell_type": "code",
   "execution_count": 1,
   "metadata": {},
   "outputs": [
    {
     "name": "stdout",
     "output_type": "stream",
     "text": [
      "[(9, 1), (10, 4), (10, 4), (9, 5), (90, 3)]\n"
     ]
    }
   ],
   "source": [
    "list1 = [(10,4),(90,3),(9,1),(10,4),(9,5)]\n",
    "def fun1(x):\n",
    "    return sum(x)\n",
    "list1.sort(key = fun1)\n",
    "print (list1)\n"
   ]
  }
 ],
 "metadata": {
  "kernelspec": {
   "display_name": "Python 3",
   "language": "python",
   "name": "python3"
  },
  "language_info": {
   "codemirror_mode": {
    "name": "ipython",
    "version": 3
   },
   "file_extension": ".py",
   "mimetype": "text/x-python",
   "name": "python",
   "nbconvert_exporter": "python",
   "pygments_lexer": "ipython3",
   "version": "3.7.6"
  }
 },
 "nbformat": 4,
 "nbformat_minor": 4
}
